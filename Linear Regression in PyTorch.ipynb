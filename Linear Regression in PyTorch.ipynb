{
 "cells": [
  {
   "cell_type": "markdown",
   "metadata": {},
   "source": [
    "# Linear Regression in PyTorch"
   ]
  },
  {
   "cell_type": "code",
   "execution_count": 1,
   "metadata": {},
   "outputs": [],
   "source": [
    "import torch\n",
    "import matplotlib.pyplot as plt\n",
    "import pandas as pd\n",
    "\n",
    "from torch import optim\n",
    "from torch.autograd import Variable"
   ]
  },
  {
   "cell_type": "code",
   "execution_count": 2,
   "metadata": {},
   "outputs": [
    {
     "data": {
      "text/plain": [
       "Text(0.5,1,'Random, Linear Data')"
      ]
     },
     "execution_count": 2,
     "metadata": {},
     "output_type": "execute_result"
    },
    {
     "data": {
      "image/png": "[encoded data removed]",
      "text/plain": [
       "<Figure size 432x288 with 1 Axes>"
      ]
     },
     "metadata": {},
     "output_type": "display_data"
    }
   ],
   "source": [
    "train_df, test_df = map(pd.read_csv, ('train.csv', 'test.csv'))\n",
    "train_df.plot(kind='scatter', x='x', y='y')\n",
    "plt.title('Random, Linear Data')"
   ]
  },
  {
   "cell_type": "code",
   "execution_count": 7,
   "metadata": {},
   "outputs": [],
   "source": [
    "def to_tensors(df):\n",
    "    return map(torch.from_numpy, (df.x.astype('float32').values, df.y.astype('float32').values))\n",
    "\n",
    "# Convert to tensors\n",
    "(x_train, y_train), (x_test, y_test) = map(to_tensors, (train_df, test_df))\n",
    "\n",
    "# Transpose\n",
    "x_train, y_train, x_test, y_test = map(lambda tensor: tensor.view(-1, 1),\n",
    "                                       (x_train, y_train, x_test, y_test))"
   ]
  },
  {
   "cell_type": "code",
   "execution_count": 8,
   "metadata": {},
   "outputs": [],
   "source": [
    "class LinearRegression(torch.nn.Module):\n",
    "    def __init__(self):\n",
    "        super(LinearRegression, self).__init__()\n",
    "        self.linear = torch.nn.Linear(1, 1)\n",
    "        \n",
    "    def forward(self, x):\n",
    "        return self.linear(x)"
   ]
  },
  {
   "cell_type": "code",
   "execution_count": 9,
   "metadata": {},
   "outputs": [],
   "source": [
    "model = LinearRegression()\n",
    "criterion = torch.nn.MSELoss()\n",
    "optimizer = optim.SGD(model.parameters(), lr=1e-4)"
   ]
  },
  {
   "cell_type": "code",
   "execution_count": 10,
   "metadata": {},
   "outputs": [
    {
     "name": "stdout",
     "output_type": "stream",
     "text": [
      "Epoch 0/1000 loss: nan\n",
      "Epoch 20/1000 loss: nan\n",
      "Epoch 40/1000 loss: nan\n",
      "Epoch 60/1000 loss: nan\n",
      "Epoch 80/1000 loss: nan\n",
      "Epoch 100/1000 loss: nan\n",
      "Epoch 120/1000 loss: nan\n",
      "Epoch 140/1000 loss: nan\n",
      "Epoch 160/1000 loss: nan\n",
      "Epoch 180/1000 loss: nan\n",
      "Epoch 200/1000 loss: nan\n",
      "Epoch 220/1000 loss: nan\n",
      "Epoch 240/1000 loss: nan\n",
      "Epoch 260/1000 loss: nan\n",
      "Epoch 280/1000 loss: nan\n",
      "Epoch 300/1000 loss: nan\n",
      "Epoch 320/1000 loss: nan\n",
      "Epoch 340/1000 loss: nan\n",
      "Epoch 360/1000 loss: nan\n",
      "Epoch 380/1000 loss: nan\n",
      "Epoch 400/1000 loss: nan\n",
      "Epoch 420/1000 loss: nan\n",
      "Epoch 440/1000 loss: nan\n",
      "Epoch 460/1000 loss: nan\n",
      "Epoch 480/1000 loss: nan\n",
      "Epoch 500/1000 loss: nan\n",
      "Epoch 520/1000 loss: nan\n",
      "Epoch 540/1000 loss: nan\n",
      "Epoch 560/1000 loss: nan\n",
      "Epoch 580/1000 loss: nan\n",
      "Epoch 600/1000 loss: nan\n",
      "Epoch 620/1000 loss: nan\n",
      "Epoch 640/1000 loss: nan\n",
      "Epoch 660/1000 loss: nan\n",
      "Epoch 680/1000 loss: nan\n",
      "Epoch 700/1000 loss: nan\n",
      "Epoch 720/1000 loss: nan\n",
      "Epoch 740/1000 loss: nan\n",
      "Epoch 760/1000 loss: nan\n",
      "Epoch 780/1000 loss: nan\n",
      "Epoch 800/1000 loss: nan\n",
      "Epoch 820/1000 loss: nan\n",
      "Epoch 840/1000 loss: nan\n",
      "Epoch 860/1000 loss: nan\n",
      "Epoch 880/1000 loss: nan\n",
      "Epoch 900/1000 loss: nan\n",
      "Epoch 920/1000 loss: nan\n",
      "Epoch 940/1000 loss: nan\n",
      "Epoch 960/1000 loss: nan\n",
      "Epoch 980/1000 loss: nan\n"
     ]
    },
    {
     "data": {
      "text/plain": [
       "LinearRegression(\n",
       "  (linear): Linear(in_features=1, out_features=1, bias=True)\n",
       ")"
      ]
     },
     "execution_count": 10,
     "metadata": {},
     "output_type": "execute_result"
    }
   ],
   "source": [
    "n_epochs = 1000\n",
    "for i in range(n_epochs):\n",
    "    inputs, target = map(Variable, (x_train, y_train))\n",
    "    \n",
    "    # Propagate forwards\n",
    "    output = model(inputs)\n",
    "    loss = criterion(output, target)\n",
    "    \n",
    "    # Propagate backwards\n",
    "    optimizer.zero_grad()\n",
    "    loss.backward()\n",
    "    optimizer.step()\n",
    "    \n",
    "    if i % 20 == 0:\n",
    "        print(f'Epoch {i}/{n_epochs}', 'loss: {:.6f}'.format(loss))\n",
    "        \n",
    "model.eval()"
   ]
  },
  {
   "cell_type": "code",
   "execution_count": null,
   "metadata": {},
   "outputs": [],
   "source": []
  }
 ],
 "metadata": {
  "kernelspec": {
   "display_name": "Python 3",
   "language": "python",
   "name": "python3"
  },
  "language_info": {
   "codemirror_mode": {
    "name": "ipython",
    "version": 3
   },
   "file_extension": ".py",
   "mimetype": "text/x-python",
   "name": "python",
   "nbconvert_exporter": "python",
   "pygments_lexer": "ipython3",
   "version": "3.6.5"
  }
 },
 "nbformat": 4,
 "nbformat_minor": 2
}
